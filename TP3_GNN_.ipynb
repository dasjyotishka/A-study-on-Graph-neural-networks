{
  "cells": [
    {
      "cell_type": "markdown",
      "metadata": {
        "id": "view-in-github",
        "colab_type": "text"
      },
      "source": [
        "<a href=\"https://colab.research.google.com/github/dasjyotishka/A-study-on-Graph-neural-networks/blob/main/TP3_GNN_.ipynb\" target=\"_parent\"><img src=\"https://colab.research.google.com/assets/colab-badge.svg\" alt=\"Open In Colab\"/></a>"
      ]
    },
    {
      "cell_type": "markdown",
      "metadata": {
        "id": "nlCNZsWlOSfP"
      },
      "source": [
        "# Practical Session on Graph Neural Networks\n"
      ]
    },
    {
      "cell_type": "markdown",
      "metadata": {
        "id": "p0RMEfCaEehI"
      },
      "source": [
        "## **PART 1 : CODING** (8/20)"
      ]
    },
    {
      "cell_type": "markdown",
      "metadata": {
        "id": "v5Lp4PasOby4"
      },
      "source": [
        "### Install Pytorch Geometric\n",
        "\n",
        "To handle graph data, we use the library Pytorch Geometric : https://pytorch-geometric.readthedocs.io/en/latest/\n",
        "\n",
        "*   If you use _Google Colab_, simply run the following cell to install Pytorch Geometric (**advised**).\n",
        "*   If you plan using your _own environment_, follow the documentation to install Pytorch Geometric : https://pytorch-geometric.readthedocs.io/en/latest/install/installation.html and skip the following cell."
      ]
    },
    {
      "cell_type": "code",
      "execution_count": null,
      "metadata": {
        "colab": {
          "base_uri": "https://localhost:8080/"
        },
        "id": "buW3eZmrj1N2",
        "outputId": "2541c900-ed04-404a-90c9-44773a4ceaab"
      },
      "outputs": [
        {
          "output_type": "stream",
          "name": "stdout",
          "text": [
            "Looking in indexes: https://pypi.org/simple, https://us-python.pkg.dev/colab-wheels/public/simple/\n",
            "Looking in links: https://pytorch-geometric.com/whl/torch-1.13.1+cu116.html\n",
            "Requirement already satisfied: torch-scatter in /usr/local/lib/python3.9/dist-packages (2.1.0+pt113cu116)\n",
            "Looking in indexes: https://pypi.org/simple, https://us-python.pkg.dev/colab-wheels/public/simple/\n",
            "Looking in links: https://pytorch-geometric.com/whl/torch-1.13.1+cu116.html\n",
            "Requirement already satisfied: torch-sparse in /usr/local/lib/python3.9/dist-packages (0.6.16+pt113cu116)\n",
            "Requirement already satisfied: scipy in /usr/local/lib/python3.9/dist-packages (from torch-sparse) (1.10.1)\n",
            "Requirement already satisfied: numpy<1.27.0,>=1.19.5 in /usr/local/lib/python3.9/dist-packages (from scipy->torch-sparse) (1.22.4)\n",
            "Looking in indexes: https://pypi.org/simple, https://us-python.pkg.dev/colab-wheels/public/simple/\n",
            "Looking in links: https://pytorch-geometric.com/whl/torch-1.13.1+cu116.html\n",
            "Requirement already satisfied: torch-cluster in /usr/local/lib/python3.9/dist-packages (1.6.0+pt113cu116)\n",
            "Requirement already satisfied: scipy in /usr/local/lib/python3.9/dist-packages (from torch-cluster) (1.10.1)\n",
            "Requirement already satisfied: numpy<1.27.0,>=1.19.5 in /usr/local/lib/python3.9/dist-packages (from scipy->torch-cluster) (1.22.4)\n",
            "Looking in indexes: https://pypi.org/simple, https://us-python.pkg.dev/colab-wheels/public/simple/\n",
            "Looking in links: https://pytorch-geometric.com/whl/torch-1.13.1+cu116.html\n",
            "Requirement already satisfied: torch-spline-conv in /usr/local/lib/python3.9/dist-packages (1.2.1+pt113cu116)\n",
            "Looking in indexes: https://pypi.org/simple, https://us-python.pkg.dev/colab-wheels/public/simple/\n",
            "Requirement already satisfied: torch-geometric in /usr/local/lib/python3.9/dist-packages (2.2.0)\n",
            "Requirement already satisfied: tqdm in /usr/local/lib/python3.9/dist-packages (from torch-geometric) (4.65.0)\n",
            "Requirement already satisfied: scipy in /usr/local/lib/python3.9/dist-packages (from torch-geometric) (1.10.1)\n",
            "Requirement already satisfied: scikit-learn in /usr/local/lib/python3.9/dist-packages (from torch-geometric) (1.2.2)\n",
            "Requirement already satisfied: psutil>=5.8.0 in /usr/local/lib/python3.9/dist-packages (from torch-geometric) (5.9.4)\n",
            "Requirement already satisfied: requests in /usr/local/lib/python3.9/dist-packages (from torch-geometric) (2.25.1)\n",
            "Requirement already satisfied: numpy in /usr/local/lib/python3.9/dist-packages (from torch-geometric) (1.22.4)\n",
            "Requirement already satisfied: jinja2 in /usr/local/lib/python3.9/dist-packages (from torch-geometric) (3.1.2)\n",
            "Requirement already satisfied: pyparsing in /usr/local/lib/python3.9/dist-packages (from torch-geometric) (3.0.9)\n",
            "Requirement already satisfied: MarkupSafe>=2.0 in /usr/local/lib/python3.9/dist-packages (from jinja2->torch-geometric) (2.1.2)\n",
            "Requirement already satisfied: certifi>=2017.4.17 in /usr/local/lib/python3.9/dist-packages (from requests->torch-geometric) (2022.12.7)\n",
            "Requirement already satisfied: urllib3<1.27,>=1.21.1 in /usr/local/lib/python3.9/dist-packages (from requests->torch-geometric) (1.26.14)\n",
            "Requirement already satisfied: chardet<5,>=3.0.2 in /usr/local/lib/python3.9/dist-packages (from requests->torch-geometric) (4.0.0)\n",
            "Requirement already satisfied: idna<3,>=2.5 in /usr/local/lib/python3.9/dist-packages (from requests->torch-geometric) (2.10)\n",
            "Requirement already satisfied: threadpoolctl>=2.0.0 in /usr/local/lib/python3.9/dist-packages (from scikit-learn->torch-geometric) (3.1.0)\n",
            "Requirement already satisfied: joblib>=1.1.1 in /usr/local/lib/python3.9/dist-packages (from scikit-learn->torch-geometric) (1.1.1)\n"
          ]
        }
      ],
      "source": [
        "########## INSTALL TORCH GEOMETRIC ##################\n",
        "# https://pytorch-geometric.readthedocs.io/en/latest/\n",
        "#####################################################\n",
        "import torch\n",
        "\n",
        "def format_pytorch_version(version):\n",
        "  return version.split('+')[0]\n",
        "\n",
        "TORCH_version = torch.__version__\n",
        "TORCH = format_pytorch_version(TORCH_version)\n",
        "\n",
        "def format_cuda_version(version):\n",
        "  return 'cu' + version.replace('.', '')\n",
        "\n",
        "CUDA_version = torch.version.cuda\n",
        "CUDA = format_cuda_version(CUDA_version)\n",
        "\n",
        "!pip install torch-scatter     -f https://pytorch-geometric.com/whl/torch-{TORCH}+{CUDA}.html\n",
        "!pip install torch-sparse      -f https://pytorch-geometric.com/whl/torch-{TORCH}+{CUDA}.html\n",
        "!pip install torch-cluster     -f https://pytorch-geometric.com/whl/torch-{TORCH}+{CUDA}.html\n",
        "!pip install torch-spline-conv -f https://pytorch-geometric.com/whl/torch-{TORCH}+{CUDA}.html\n",
        "!pip install torch-geometric"
      ]
    },
    {
      "cell_type": "markdown",
      "metadata": {
        "id": "04JPKXjDclTj"
      },
      "source": [
        "### Import required packages\n",
        "\n",
        "Run the following cell to import all required packages. This cell **must not** be modified.\n",
        "\n",
        "To significantly accelerate your training, it is advised to use GPU. Using Google Colab, you need to activate it :\n",
        "\n",
        "*   Edit --> Notebook Setting --> Hardware accelerator --> GPU"
      ]
    },
    {
      "cell_type": "code",
      "execution_count": null,
      "metadata": {
        "id": "qXGDmBMYgA_x"
      },
      "outputs": [],
      "source": [
        "#####################################################\n",
        "################## PACKAGES #########################\n",
        "#####################################################\n",
        "import numpy as np\n",
        "import matplotlib.pyplot as plt\n",
        "\n",
        "import torch.nn as nn\n",
        "import torch_geometric.nn as graphnn\n",
        "from sklearn.metrics import f1_score\n",
        "from torch_geometric.datasets import PPI\n",
        "from torch_geometric.loader import DataLoader"
      ]
    },
    {
      "cell_type": "markdown",
      "metadata": {
        "id": "3UvCNG8FgdS-"
      },
      "source": [
        "### Dataset\n",
        "\n",
        "We use the Protein-Protein Interaction (PPI) network dataset which includes:\n",
        "- 20 graphs for training\n",
        "- 2 graphs for validation\n",
        "- 2 graphs for testing\n",
        "\n",
        "One graph of the PPI dataset has on average 2372 nodes. Each node:\n",
        "- 50 features : positional gene sets / motif gene / immunological signatures ...\n",
        "- 121 (binary) labels : gene ontology sets (way to classify gene products like proteins).\n",
        "\n",
        "**This problem aims to predict, for a given PPI graph, the correct node's labels**.\n",
        "\n",
        "**It is a node (multi-level) classification task** (trained using supervised learning).\n",
        "\n",
        "For your curiosity, more details information on the dataset and some applications:\n",
        "- https://cs.stanford.edu/~jure/pubs/pathways-psb18.pdf\n",
        "- https://arxiv.org/abs/1707.04638\n",
        "\n",
        "To understand how a graph data is implemented in Pytorch Geometric, refer to : https://pytorch-geometric.readthedocs.io/en/latest/get_started/introduction.html\n"
      ]
    },
    {
      "cell_type": "code",
      "execution_count": null,
      "metadata": {
        "colab": {
          "base_uri": "https://localhost:8080/"
        },
        "id": "IwdNhvzVNkZB",
        "outputId": "bee9521a-02a1-4501-c2ac-87277db4c915"
      },
      "outputs": [
        {
          "output_type": "stream",
          "name": "stderr",
          "text": [
            "Downloading https://data.dgl.ai/dataset/ppi.zip\n",
            "Extracting ./ppi.zip\n",
            "Processing...\n"
          ]
        },
        {
          "output_type": "stream",
          "name": "stdout",
          "text": [
            "Number of samples in the train dataset:  20\n",
            "Number of samples in the val dataset:  2\n",
            "Number of samples in the test dataset:  2\n",
            "Output of one sample from the train dataset:  Data(x=[1767, 50], edge_index=[2, 32318], y=[1767, 121])\n",
            "Edge_index :\n",
            "tensor([[   0,    0,    0,  ..., 1744, 1745, 1749],\n",
            "        [ 372, 1101,  766,  ..., 1745, 1744, 1739]])\n",
            "Number of features per node:  50\n",
            "Number of classes per node:  121\n"
          ]
        },
        {
          "output_type": "stream",
          "name": "stderr",
          "text": [
            "Done!\n"
          ]
        }
      ],
      "source": [
        "### LOAD DATASETS\n",
        "\n",
        "BATCH_SIZE = 2\n",
        "\n",
        "# Train Dataset\n",
        "train_dataset = PPI(root=\"\", split='train')\n",
        "train_dataloader = DataLoader(train_dataset, batch_size=BATCH_SIZE)\n",
        "# Val Dataset\n",
        "val_dataset = PPI(root=\"\", split='val')\n",
        "val_dataloader = DataLoader(val_dataset, batch_size=BATCH_SIZE)\n",
        "# Test Dataset\n",
        "test_dataset = PPI(root=\"\", split='test')\n",
        "test_dataloader = DataLoader(test_dataset, batch_size=BATCH_SIZE)\n",
        "\n",
        "# Number of features and classes\n",
        "n_features, n_classes = train_dataset[0].x.shape[1], train_dataset[0].y.shape[1]\n",
        "\n",
        "print(\"Number of samples in the train dataset: \", len(train_dataset))\n",
        "print(\"Number of samples in the val dataset: \", len(test_dataset))\n",
        "print(\"Number of samples in the test dataset: \", len(test_dataset))\n",
        "print(\"Output of one sample from the train dataset: \", train_dataset[0])\n",
        "print(\"Edge_index :\")\n",
        "print(train_dataset[0].edge_index)\n",
        "print(\"Number of features per node: \", n_features)\n",
        "print(\"Number of classes per node: \", n_classes)"
      ]
    },
    {
      "cell_type": "markdown",
      "metadata": {
        "id": "hiCcn9qeO6Nm"
      },
      "source": [
        "### Define a basic Model"
      ]
    },
    {
      "cell_type": "markdown",
      "metadata": {
        "id": "8RjzEiJ-eVot"
      },
      "source": [
        "Here we define a very simple Graph Neural Network model which will be used as our baseline. This model consists of three graph convolutional layers (from https://arxiv.org/pdf/1609.02907.pdf). The first two layers computes 256 features, followed by an ELU activation function. The last layer is used for (multi-level) classification task, computing 121 features."
      ]
    },
    {
      "cell_type": "code",
      "execution_count": null,
      "metadata": {
        "id": "2Km-GN1aMpd_"
      },
      "outputs": [],
      "source": [
        "#####################################################\n",
        "################## MODEL ############################\n",
        "#####################################################\n",
        "\n",
        "#We are using Graph Attention Layers instead of Graph Convolution Layers to build our architecture\n",
        "\n",
        "class BasicGraphModel(nn.Module):\n",
        "\n",
        "    def __init__(self, input_size, hidden_size, output_size):\n",
        "        super().__init__()\n",
        "\n",
        "        self.graphconv1 = graphnn.GCNConv(input_size, hidden_size)\n",
        "        self.graphconv2 = graphnn.GCNConv(hidden_size, hidden_size)\n",
        "        self.graphconv3 = graphnn.GCNConv(hidden_size, output_size)\n",
        "\n",
        "        self.elu = nn.ELU()\n",
        "\n",
        "    def forward(self, x, edge_index):\n",
        "\n",
        "        x = self.graphconv1(x, edge_index)\n",
        "        x = self.elu(x)\n",
        "        x = self.graphconv2(x, edge_index)\n",
        "        x = self.elu(x)\n",
        "        x = self.graphconv3(x, edge_index)\n",
        "\n",
        "        return x"
      ]
    },
    {
      "cell_type": "markdown",
      "metadata": {
        "id": "6ekk0TrOktOB"
      },
      "source": [
        "Next we construct the function to train the model."
      ]
    },
    {
      "cell_type": "code",
      "execution_count": null,
      "metadata": {
        "id": "m4lneoadMxqy"
      },
      "outputs": [],
      "source": [
        "#####################################################\n",
        "############## TRAIN FUNCTION #######################\n",
        "#####################################################\n",
        "def train(model, loss_fcn, device, optimizer, max_epochs, train_dataloader, val_dataloader):\n",
        "\n",
        "    epoch_list = []\n",
        "    scores_list = []\n",
        "\n",
        "    # loop over epochs\n",
        "    for epoch in range(max_epochs):\n",
        "        model.train()\n",
        "        losses = []\n",
        "        # loop over batches\n",
        "        for i, train_batch in enumerate(train_dataloader):\n",
        "            optimizer.zero_grad()\n",
        "            train_batch_device = train_batch.to(device)\n",
        "            # logits is the output of the model\n",
        "            logits = model(train_batch_device.x, train_batch_device.edge_index)\n",
        "            # compute the loss\n",
        "            loss = loss_fcn(logits, train_batch_device.y)\n",
        "            # optimizer step\n",
        "            loss.backward()\n",
        "            optimizer.step()\n",
        "            losses.append(loss.item())\n",
        "        loss_data = np.array(losses).mean()\n",
        "        print(\"Epoch {:05d} | Loss: {:.4f}\".format(epoch + 1, loss_data))\n",
        "\n",
        "        if epoch % 5 == 0:\n",
        "            # evaluate the model on the validation set\n",
        "            # computes the f1-score (see next function)\n",
        "            score = evaluate(model, loss_fcn, device, val_dataloader)\n",
        "            print(\"F1-Score: {:.4f}\".format(score))\n",
        "            scores_list.append(score)\n",
        "            epoch_list.append(epoch)\n",
        "\n",
        "    return epoch_list, scores_list"
      ]
    },
    {
      "cell_type": "markdown",
      "metadata": {
        "id": "PTd9OqaelLni"
      },
      "source": [
        "Next function is designed to evaluate the performance of the model, computing the F1-Score"
      ]
    },
    {
      "cell_type": "code",
      "execution_count": null,
      "metadata": {
        "id": "PajZzg5zM7V1"
      },
      "outputs": [],
      "source": [
        "#####################################################\n",
        "############### TEST FUNCTION #######################\n",
        "#####################################################\n",
        "def evaluate(model, loss_fcn, device, dataloader):\n",
        "\n",
        "    score_list_batch = []\n",
        "\n",
        "    model.eval()\n",
        "    for i, batch in enumerate(dataloader):\n",
        "        batch = batch.to(device)\n",
        "        output = model(batch.x, batch.edge_index)\n",
        "        loss_test = loss_fcn(output, batch.y)\n",
        "        predict = np.where(output.detach().cpu().numpy() >= 0, 1, 0)\n",
        "        score = f1_score(batch.y.cpu().numpy(), predict, average=\"micro\")\n",
        "        score_list_batch.append(score)\n",
        "\n",
        "    return np.array(score_list_batch).mean()"
      ]
    },
    {
      "cell_type": "markdown",
      "metadata": {
        "id": "EilgopwMlpsu"
      },
      "source": [
        "Let's train this model !"
      ]
    },
    {
      "cell_type": "code",
      "execution_count": null,
      "metadata": {
        "colab": {
          "base_uri": "https://localhost:8080/"
        },
        "id": "Xkqo7e0gNACE",
        "outputId": "aee1f909-14db-4e74-ee6f-21128a912a76"
      },
      "outputs": [
        {
          "output_type": "stream",
          "name": "stdout",
          "text": [
            "\n",
            "Device:  cuda\n",
            "Epoch 00001 | Loss: 0.6375\n",
            "F1-Score: 0.4526\n",
            "Epoch 00002 | Loss: 0.5818\n",
            "Epoch 00003 | Loss: 0.5622\n",
            "Epoch 00004 | Loss: 0.5563\n",
            "Epoch 00005 | Loss: 0.5516\n",
            "Epoch 00006 | Loss: 0.5463\n",
            "F1-Score: 0.4915\n",
            "Epoch 00007 | Loss: 0.5417\n",
            "Epoch 00008 | Loss: 0.5376\n",
            "Epoch 00009 | Loss: 0.5344\n",
            "Epoch 00010 | Loss: 0.5318\n",
            "Epoch 00011 | Loss: 0.5292\n",
            "F1-Score: 0.5294\n",
            "Epoch 00012 | Loss: 0.5267\n",
            "Epoch 00013 | Loss: 0.5241\n",
            "Epoch 00014 | Loss: 0.5217\n",
            "Epoch 00015 | Loss: 0.5195\n",
            "Epoch 00016 | Loss: 0.5172\n",
            "F1-Score: 0.5099\n",
            "Epoch 00017 | Loss: 0.5148\n",
            "Epoch 00018 | Loss: 0.5124\n",
            "Epoch 00019 | Loss: 0.5098\n",
            "Epoch 00020 | Loss: 0.5076\n",
            "Epoch 00021 | Loss: 0.5055\n",
            "F1-Score: 0.5322\n",
            "Epoch 00022 | Loss: 0.5036\n",
            "Epoch 00023 | Loss: 0.5015\n",
            "Epoch 00024 | Loss: 0.4996\n",
            "Epoch 00025 | Loss: 0.4976\n",
            "Epoch 00026 | Loss: 0.4957\n",
            "F1-Score: 0.5443\n",
            "Epoch 00027 | Loss: 0.4937\n",
            "Epoch 00028 | Loss: 0.4917\n",
            "Epoch 00029 | Loss: 0.4899\n",
            "Epoch 00030 | Loss: 0.4880\n",
            "Epoch 00031 | Loss: 0.4863\n",
            "F1-Score: 0.5577\n",
            "Epoch 00032 | Loss: 0.4845\n",
            "Epoch 00033 | Loss: 0.4830\n",
            "Epoch 00034 | Loss: 0.4813\n",
            "Epoch 00035 | Loss: 0.4799\n",
            "Epoch 00036 | Loss: 0.4784\n",
            "F1-Score: 0.5721\n",
            "Epoch 00037 | Loss: 0.4769\n",
            "Epoch 00038 | Loss: 0.4756\n",
            "Epoch 00039 | Loss: 0.4741\n",
            "Epoch 00040 | Loss: 0.4732\n",
            "Epoch 00041 | Loss: 0.4726\n",
            "F1-Score: 0.5691\n",
            "Epoch 00042 | Loss: 0.4725\n",
            "Epoch 00043 | Loss: 0.4729\n",
            "Epoch 00044 | Loss: 0.4733\n",
            "Epoch 00045 | Loss: 0.4722\n",
            "Epoch 00046 | Loss: 0.4718\n",
            "F1-Score: 0.5519\n",
            "Epoch 00047 | Loss: 0.4716\n",
            "Epoch 00048 | Loss: 0.4683\n",
            "Epoch 00049 | Loss: 0.4655\n",
            "Epoch 00050 | Loss: 0.4633\n",
            "Epoch 00051 | Loss: 0.4615\n",
            "F1-Score: 0.5650\n",
            "Epoch 00052 | Loss: 0.4601\n",
            "Epoch 00053 | Loss: 0.4586\n",
            "Epoch 00054 | Loss: 0.4573\n",
            "Epoch 00055 | Loss: 0.4562\n",
            "Epoch 00056 | Loss: 0.4551\n",
            "F1-Score: 0.5688\n",
            "Epoch 00057 | Loss: 0.4543\n",
            "Epoch 00058 | Loss: 0.4542\n",
            "Epoch 00059 | Loss: 0.4530\n",
            "Epoch 00060 | Loss: 0.4533\n",
            "Epoch 00061 | Loss: 0.4527\n",
            "F1-Score: 0.5826\n",
            "Epoch 00062 | Loss: 0.4536\n",
            "Epoch 00063 | Loss: 0.4546\n",
            "Epoch 00064 | Loss: 0.4538\n",
            "Epoch 00065 | Loss: 0.4527\n",
            "Epoch 00066 | Loss: 0.4519\n",
            "F1-Score: 0.5730\n",
            "Epoch 00067 | Loss: 0.4505\n",
            "Epoch 00068 | Loss: 0.4484\n",
            "Epoch 00069 | Loss: 0.4472\n",
            "Epoch 00070 | Loss: 0.4451\n",
            "Epoch 00071 | Loss: 0.4442\n",
            "F1-Score: 0.5778\n",
            "Epoch 00072 | Loss: 0.4434\n",
            "Epoch 00073 | Loss: 0.4430\n",
            "Epoch 00074 | Loss: 0.4428\n",
            "Epoch 00075 | Loss: 0.4420\n",
            "Epoch 00076 | Loss: 0.4416\n",
            "F1-Score: 0.5731\n",
            "Epoch 00077 | Loss: 0.4412\n",
            "Epoch 00078 | Loss: 0.4415\n",
            "Epoch 00079 | Loss: 0.4415\n",
            "Epoch 00080 | Loss: 0.4417\n",
            "Epoch 00081 | Loss: 0.4410\n",
            "F1-Score: 0.5599\n",
            "Epoch 00082 | Loss: 0.4407\n",
            "Epoch 00083 | Loss: 0.4404\n",
            "Epoch 00084 | Loss: 0.4397\n",
            "Epoch 00085 | Loss: 0.4388\n",
            "Epoch 00086 | Loss: 0.4377\n",
            "F1-Score: 0.5602\n",
            "Epoch 00087 | Loss: 0.4373\n",
            "Epoch 00088 | Loss: 0.4371\n",
            "Epoch 00089 | Loss: 0.4371\n",
            "Epoch 00090 | Loss: 0.4372\n",
            "Epoch 00091 | Loss: 0.4383\n",
            "F1-Score: 0.5765\n",
            "Epoch 00092 | Loss: 0.4420\n",
            "Epoch 00093 | Loss: 0.4443\n",
            "Epoch 00094 | Loss: 0.4426\n",
            "Epoch 00095 | Loss: 0.4420\n",
            "Epoch 00096 | Loss: 0.4381\n",
            "F1-Score: 0.6108\n",
            "Epoch 00097 | Loss: 0.4377\n",
            "Epoch 00098 | Loss: 0.4338\n",
            "Epoch 00099 | Loss: 0.4320\n",
            "Epoch 00100 | Loss: 0.4315\n",
            "Epoch 00101 | Loss: 0.4317\n",
            "F1-Score: 0.6122\n",
            "Epoch 00102 | Loss: 0.4317\n",
            "Epoch 00103 | Loss: 0.4304\n",
            "Epoch 00104 | Loss: 0.4297\n",
            "Epoch 00105 | Loss: 0.4277\n",
            "Epoch 00106 | Loss: 0.4278\n",
            "F1-Score: 0.6006\n",
            "Epoch 00107 | Loss: 0.4264\n",
            "Epoch 00108 | Loss: 0.4258\n",
            "Epoch 00109 | Loss: 0.4247\n",
            "Epoch 00110 | Loss: 0.4251\n",
            "Epoch 00111 | Loss: 0.4255\n",
            "F1-Score: 0.6203\n",
            "Epoch 00112 | Loss: 0.4245\n",
            "Epoch 00113 | Loss: 0.4248\n",
            "Epoch 00114 | Loss: 0.4251\n",
            "Epoch 00115 | Loss: 0.4257\n",
            "Epoch 00116 | Loss: 0.4275\n",
            "F1-Score: 0.5982\n",
            "Epoch 00117 | Loss: 0.4306\n",
            "Epoch 00118 | Loss: 0.4299\n",
            "Epoch 00119 | Loss: 0.4287\n",
            "Epoch 00120 | Loss: 0.4274\n",
            "Epoch 00121 | Loss: 0.4266\n",
            "F1-Score: 0.6277\n",
            "Epoch 00122 | Loss: 0.4248\n",
            "Epoch 00123 | Loss: 0.4231\n",
            "Epoch 00124 | Loss: 0.4251\n",
            "Epoch 00125 | Loss: 0.4241\n",
            "Epoch 00126 | Loss: 0.4248\n",
            "F1-Score: 0.6103\n",
            "Epoch 00127 | Loss: 0.4234\n",
            "Epoch 00128 | Loss: 0.4213\n",
            "Epoch 00129 | Loss: 0.4204\n",
            "Epoch 00130 | Loss: 0.4194\n",
            "Epoch 00131 | Loss: 0.4172\n",
            "F1-Score: 0.6263\n",
            "Epoch 00132 | Loss: 0.4157\n",
            "Epoch 00133 | Loss: 0.4148\n",
            "Epoch 00134 | Loss: 0.4138\n",
            "Epoch 00135 | Loss: 0.4130\n",
            "Epoch 00136 | Loss: 0.4125\n",
            "F1-Score: 0.6210\n",
            "Epoch 00137 | Loss: 0.4120\n",
            "Epoch 00138 | Loss: 0.4120\n",
            "Epoch 00139 | Loss: 0.4121\n",
            "Epoch 00140 | Loss: 0.4123\n",
            "Epoch 00141 | Loss: 0.4129\n",
            "F1-Score: 0.6331\n",
            "Epoch 00142 | Loss: 0.4126\n",
            "Epoch 00143 | Loss: 0.4127\n",
            "Epoch 00144 | Loss: 0.4132\n",
            "Epoch 00145 | Loss: 0.4134\n",
            "Epoch 00146 | Loss: 0.4140\n",
            "F1-Score: 0.6446\n",
            "Epoch 00147 | Loss: 0.4134\n",
            "Epoch 00148 | Loss: 0.4138\n",
            "Epoch 00149 | Loss: 0.4136\n",
            "Epoch 00150 | Loss: 0.4133\n",
            "Epoch 00151 | Loss: 0.4138\n",
            "F1-Score: 0.6227\n",
            "Epoch 00152 | Loss: 0.4143\n",
            "Epoch 00153 | Loss: 0.4154\n",
            "Epoch 00154 | Loss: 0.4141\n",
            "Epoch 00155 | Loss: 0.4117\n",
            "Epoch 00156 | Loss: 0.4109\n",
            "F1-Score: 0.6440\n",
            "Epoch 00157 | Loss: 0.4098\n",
            "Epoch 00158 | Loss: 0.4086\n",
            "Epoch 00159 | Loss: 0.4087\n",
            "Epoch 00160 | Loss: 0.4081\n",
            "Epoch 00161 | Loss: 0.4072\n",
            "F1-Score: 0.6429\n",
            "Epoch 00162 | Loss: 0.4091\n",
            "Epoch 00163 | Loss: 0.4083\n",
            "Epoch 00164 | Loss: 0.4078\n",
            "Epoch 00165 | Loss: 0.4089\n",
            "Epoch 00166 | Loss: 0.4069\n",
            "F1-Score: 0.6374\n",
            "Epoch 00167 | Loss: 0.4086\n",
            "Epoch 00168 | Loss: 0.4102\n",
            "Epoch 00169 | Loss: 0.4094\n",
            "Epoch 00170 | Loss: 0.4134\n",
            "Epoch 00171 | Loss: 0.4196\n",
            "F1-Score: 0.5864\n",
            "Epoch 00172 | Loss: 0.4213\n",
            "Epoch 00173 | Loss: 0.4226\n",
            "Epoch 00174 | Loss: 0.4272\n",
            "Epoch 00175 | Loss: 0.4290\n",
            "Epoch 00176 | Loss: 0.4261\n",
            "F1-Score: 0.6509\n",
            "Epoch 00177 | Loss: 0.4252\n",
            "Epoch 00178 | Loss: 0.4205\n",
            "Epoch 00179 | Loss: 0.4179\n",
            "Epoch 00180 | Loss: 0.4148\n",
            "Epoch 00181 | Loss: 0.4111\n",
            "F1-Score: 0.6320\n",
            "Epoch 00182 | Loss: 0.4122\n",
            "Epoch 00183 | Loss: 0.4105\n",
            "Epoch 00184 | Loss: 0.4074\n",
            "Epoch 00185 | Loss: 0.4067\n",
            "Epoch 00186 | Loss: 0.4047\n",
            "F1-Score: 0.6324\n",
            "Epoch 00187 | Loss: 0.4045\n",
            "Epoch 00188 | Loss: 0.4032\n",
            "Epoch 00189 | Loss: 0.4020\n",
            "Epoch 00190 | Loss: 0.4002\n",
            "Epoch 00191 | Loss: 0.3993\n",
            "F1-Score: 0.6362\n",
            "Epoch 00192 | Loss: 0.3979\n",
            "Epoch 00193 | Loss: 0.3980\n",
            "Epoch 00194 | Loss: 0.3973\n",
            "Epoch 00195 | Loss: 0.3979\n",
            "Epoch 00196 | Loss: 0.3988\n",
            "F1-Score: 0.6549\n",
            "Epoch 00197 | Loss: 0.4005\n",
            "Epoch 00198 | Loss: 0.4005\n",
            "Epoch 00199 | Loss: 0.4020\n",
            "Epoch 00200 | Loss: 0.4049\n"
          ]
        }
      ],
      "source": [
        "### DEVICE GPU OR CPU : will select GPU if available\n",
        "device = torch.device('cuda' if torch.cuda.is_available() else 'cpu')\n",
        "print(\"\\nDevice: \", device)\n",
        "\n",
        "### Max number of epochs\n",
        "max_epochs = 200\n",
        "\n",
        "### DEFINE THE MODEL\n",
        "basic_model = BasicGraphModel(  input_size = n_features,\n",
        "                                hidden_size = 256,\n",
        "                                output_size = n_classes).to(device)\n",
        "\n",
        "### DEFINE LOSS FUNCTION\n",
        "loss_fcn = nn.BCEWithLogitsLoss()\n",
        "\n",
        "### DEFINE OPTIMIZER\n",
        "optimizer = torch.optim.Adam(basic_model.parameters(), lr=0.005)\n",
        "\n",
        "### TRAIN THE MODEL\n",
        "epoch_list, basic_model_scores = train(basic_model, loss_fcn, device, optimizer, max_epochs, train_dataloader, val_dataloader)"
      ]
    },
    {
      "cell_type": "markdown",
      "metadata": {
        "id": "2sGc5g7Xmap2"
      },
      "source": [
        "Let's evaluate the performance of this basic model"
      ]
    },
    {
      "cell_type": "code",
      "execution_count": null,
      "metadata": {
        "colab": {
          "base_uri": "https://localhost:8080/",
          "height": 353
        },
        "id": "ztfbbg2TNP7F",
        "outputId": "ba9fd6a7-7104-4735-ee0c-4ca9d4edcc04"
      },
      "outputs": [
        {
          "output_type": "stream",
          "name": "stdout",
          "text": [
            "Basic Model : F1-Score on the test set: 0.6508\n"
          ]
        },
        {
          "output_type": "display_data",
          "data": {
            "text/plain": [
              "<Figure size 720x360 with 1 Axes>"
            ],
            "image/png": "[encoded data removed]"
          },
          "metadata": {
            "needs_background": "light"
          }
        }
      ],
      "source": [
        "### F1-SCORE ON TEST DATASET\n",
        "score_test = evaluate(basic_model, loss_fcn, device, test_dataloader)\n",
        "print(\"Basic Model : F1-Score on the test set: {:.4f}\".format(score_test))\n",
        "\n",
        "### PLOT EVOLUTION OF F1-SCORE W.R.T EPOCHS\n",
        "def plot_f1_score(epoch_list, scores) :\n",
        "    plt.figure(figsize=[10,5])\n",
        "    plt.plot(epoch_list, scores)\n",
        "    plt.title(\"Evolution of F1S-Score w.r.t epochs\")\n",
        "    plt.ylim([0.0, 1.0])\n",
        "    plt.show()\n",
        "\n",
        "plot_f1_score(epoch_list, basic_model_scores)"
      ]
    },
    {
      "cell_type": "markdown",
      "metadata": {
        "id": "TRVsy5vLnWm_"
      },
      "source": [
        "### Define a better model\n",
        "\n",
        "Now, it's your turn to improve this basic model ! To do so, complete whenever ###### YOUR ANSWER ######## and run the two following cells.\n",
        "\n",
        "**HINT :** https://arxiv.org/pdf/1710.10903.pdf"
      ]
    },
    {
      "cell_type": "code",
      "execution_count": null,
      "metadata": {
        "id": "qTo7PxFpRHzL"
      },
      "outputs": [],
      "source": [
        "import torch.nn.functional as F\n",
        "from torch_geometric.nn import GCNConv, GATv2Conv\n",
        "\n",
        "class StudentModel(nn.Module):\n",
        "  def __init__(self, input_size, hidden_size, output_size):\n",
        "      super().__init__()\n",
        "\n",
        "      ####### YOUR ANSWER #######\n",
        "\n",
        "      self.gatv2conv1 = GATv2Conv(input_size, hidden_size, heads=4)\n",
        "      self.gatv2conv2 = GATv2Conv(hidden_size*4, hidden_size, heads=4)\n",
        "      self.gatv2conv3 = GATv2Conv(hidden_size*4, output_size, heads=1)\n",
        "      self.elu = nn.ELU()\n",
        "\n",
        "\n",
        "  def forward(self, x, edge_index):\n",
        "      x = self.gatv2conv1(x, edge_index)\n",
        "      x = self.gatv2conv2(x, edge_index)\n",
        "      x = self.elu(x)\n",
        "      x = self.gatv2conv3(x, edge_index)\n",
        "      return x\n",
        "\n",
        "      ####### YOUR ANSWER #######\n"
      ]
    },
    {
      "cell_type": "markdown",
      "metadata": {
        "id": "4yGdQ2uxpCAX"
      },
      "source": [
        "Let's train your model !"
      ]
    },
    {
      "cell_type": "code",
      "execution_count": null,
      "metadata": {
        "id": "6XIYzkYRo3AQ",
        "colab": {
          "base_uri": "https://localhost:8080/"
        },
        "outputId": "c3dcd5bb-b116-4068-c6ff-ce9b82de8362"
      },
      "outputs": [
        {
          "output_type": "stream",
          "name": "stdout",
          "text": [
            "Epoch 00001 | Loss: 0.6224\n",
            "F1-Score: 0.4410\n",
            "Epoch 00002 | Loss: 0.5653\n",
            "Epoch 00003 | Loss: 0.5373\n",
            "Epoch 00004 | Loss: 0.5314\n",
            "Epoch 00005 | Loss: 0.5186\n",
            "Epoch 00006 | Loss: 0.5036\n",
            "F1-Score: 0.4978\n",
            "Epoch 00007 | Loss: 0.4997\n",
            "Epoch 00008 | Loss: 0.4914\n",
            "Epoch 00009 | Loss: 0.4746\n",
            "Epoch 00010 | Loss: 0.4571\n",
            "Epoch 00011 | Loss: 0.4753\n",
            "F1-Score: 0.5003\n",
            "Epoch 00012 | Loss: 0.4741\n",
            "Epoch 00013 | Loss: 0.4450\n",
            "Epoch 00014 | Loss: 0.4240\n",
            "Epoch 00015 | Loss: 0.4133\n",
            "Epoch 00016 | Loss: 0.4041\n",
            "F1-Score: 0.6511\n",
            "Epoch 00017 | Loss: 0.3878\n",
            "Epoch 00018 | Loss: 0.3771\n",
            "Epoch 00019 | Loss: 0.3674\n",
            "Epoch 00020 | Loss: 0.3529\n",
            "Epoch 00021 | Loss: 0.3661\n",
            "F1-Score: 0.6896\n",
            "Epoch 00022 | Loss: 0.3559\n",
            "Epoch 00023 | Loss: 0.3405\n",
            "Epoch 00024 | Loss: 0.3294\n",
            "Epoch 00025 | Loss: 0.3123\n",
            "Epoch 00026 | Loss: 0.2998\n",
            "F1-Score: 0.7641\n",
            "Epoch 00027 | Loss: 0.2946\n",
            "Epoch 00028 | Loss: 0.2958\n",
            "Epoch 00029 | Loss: 0.3008\n",
            "Epoch 00030 | Loss: 0.2951\n",
            "Epoch 00031 | Loss: 0.2823\n",
            "F1-Score: 0.7788\n",
            "Epoch 00032 | Loss: 0.2741\n",
            "Epoch 00033 | Loss: 0.2706\n",
            "Epoch 00034 | Loss: 0.2634\n",
            "Epoch 00035 | Loss: 0.2556\n",
            "Epoch 00036 | Loss: 0.2447\n",
            "F1-Score: 0.8081\n",
            "Epoch 00037 | Loss: 0.2370\n",
            "Epoch 00038 | Loss: 0.2306\n",
            "Epoch 00039 | Loss: 0.2314\n",
            "Epoch 00040 | Loss: 0.2279\n",
            "Epoch 00041 | Loss: 0.2211\n",
            "F1-Score: 0.8257\n",
            "Epoch 00042 | Loss: 0.2200\n",
            "Epoch 00043 | Loss: 0.2139\n",
            "Epoch 00044 | Loss: 0.2114\n",
            "Epoch 00045 | Loss: 0.2097\n",
            "Epoch 00046 | Loss: 0.2057\n",
            "F1-Score: 0.8373\n",
            "Epoch 00047 | Loss: 0.2010\n",
            "Epoch 00048 | Loss: 0.1937\n",
            "Epoch 00049 | Loss: 0.1947\n",
            "Epoch 00050 | Loss: 0.1855\n",
            "Epoch 00051 | Loss: 0.1825\n",
            "F1-Score: 0.8577\n",
            "Epoch 00052 | Loss: 0.1772\n",
            "Epoch 00053 | Loss: 0.1732\n",
            "Epoch 00054 | Loss: 0.1747\n",
            "Epoch 00055 | Loss: 0.1756\n",
            "Epoch 00056 | Loss: 0.1735\n",
            "F1-Score: 0.8619\n",
            "Epoch 00057 | Loss: 0.1714\n",
            "Epoch 00058 | Loss: 0.1653\n",
            "Epoch 00059 | Loss: 0.1592\n",
            "Epoch 00060 | Loss: 0.1542\n",
            "Epoch 00061 | Loss: 0.1485\n",
            "F1-Score: 0.8828\n",
            "Epoch 00062 | Loss: 0.1448\n",
            "Epoch 00063 | Loss: 0.1434\n",
            "Epoch 00064 | Loss: 0.1424\n",
            "Epoch 00065 | Loss: 0.1407\n",
            "Epoch 00066 | Loss: 0.1414\n",
            "F1-Score: 0.8862\n",
            "Epoch 00067 | Loss: 0.1377\n",
            "Epoch 00068 | Loss: 0.1366\n",
            "Epoch 00069 | Loss: 0.1311\n",
            "Epoch 00070 | Loss: 0.1275\n",
            "Epoch 00071 | Loss: 0.1241\n",
            "F1-Score: 0.9029\n",
            "Epoch 00072 | Loss: 0.1224\n",
            "Epoch 00073 | Loss: 0.1228\n",
            "Epoch 00074 | Loss: 0.1211\n",
            "Epoch 00075 | Loss: 0.1198\n",
            "Epoch 00076 | Loss: 0.1231\n",
            "F1-Score: 0.9033\n",
            "Epoch 00077 | Loss: 0.1209\n",
            "Epoch 00078 | Loss: 0.1195\n",
            "Epoch 00079 | Loss: 0.1171\n",
            "Epoch 00080 | Loss: 0.1164\n",
            "Epoch 00081 | Loss: 0.1174\n",
            "F1-Score: 0.9058\n",
            "Epoch 00082 | Loss: 0.1209\n",
            "Epoch 00083 | Loss: 0.1241\n",
            "Epoch 00084 | Loss: 0.1229\n",
            "Epoch 00085 | Loss: 0.1249\n",
            "Epoch 00086 | Loss: 0.1346\n",
            "F1-Score: 0.8974\n",
            "Epoch 00087 | Loss: 0.1307\n",
            "Epoch 00088 | Loss: 0.1227\n",
            "Epoch 00089 | Loss: 0.1189\n",
            "Epoch 00090 | Loss: 0.1106\n",
            "Epoch 00091 | Loss: 0.1055\n",
            "F1-Score: 0.9155\n",
            "Epoch 00092 | Loss: 0.1014\n",
            "Epoch 00093 | Loss: 0.0993\n",
            "Epoch 00094 | Loss: 0.0952\n",
            "Epoch 00095 | Loss: 0.0911\n",
            "Epoch 00096 | Loss: 0.0880\n",
            "F1-Score: 0.9281\n",
            "Epoch 00097 | Loss: 0.0860\n",
            "Epoch 00098 | Loss: 0.0856\n",
            "Epoch 00099 | Loss: 0.0843\n",
            "Epoch 00100 | Loss: 0.0853\n",
            "Epoch 00101 | Loss: 0.0852\n",
            "F1-Score: 0.9311\n",
            "Epoch 00102 | Loss: 0.0834\n",
            "Epoch 00103 | Loss: 0.0857\n",
            "Epoch 00104 | Loss: 0.0931\n",
            "Epoch 00105 | Loss: 0.0965\n",
            "Epoch 00106 | Loss: 0.1005\n",
            "F1-Score: 0.9234\n",
            "Epoch 00107 | Loss: 0.1027\n",
            "Epoch 00108 | Loss: 0.0952\n",
            "Epoch 00109 | Loss: 0.0883\n",
            "Epoch 00110 | Loss: 0.0848\n",
            "Epoch 00111 | Loss: 0.0805\n",
            "F1-Score: 0.9348\n",
            "Epoch 00112 | Loss: 0.0792\n",
            "Epoch 00113 | Loss: 0.0803\n",
            "Epoch 00114 | Loss: 0.0856\n",
            "Epoch 00115 | Loss: 0.0857\n",
            "Epoch 00116 | Loss: 0.0836\n",
            "F1-Score: 0.9318\n",
            "Epoch 00117 | Loss: 0.0799\n",
            "Epoch 00118 | Loss: 0.0751\n",
            "Epoch 00119 | Loss: 0.0694\n",
            "Epoch 00120 | Loss: 0.0642\n",
            "Epoch 00121 | Loss: 0.0627\n",
            "F1-Score: 0.9444\n",
            "Epoch 00122 | Loss: 0.0618\n",
            "Epoch 00123 | Loss: 0.0621\n",
            "Epoch 00124 | Loss: 0.0675\n",
            "Epoch 00125 | Loss: 0.0711\n",
            "Epoch 00126 | Loss: 0.0807\n",
            "F1-Score: 0.9345\n",
            "Epoch 00127 | Loss: 0.0824\n",
            "Epoch 00128 | Loss: 0.0900\n",
            "Epoch 00129 | Loss: 0.0906\n",
            "Epoch 00130 | Loss: 0.0874\n",
            "Epoch 00131 | Loss: 0.0819\n",
            "F1-Score: 0.9363\n",
            "Epoch 00132 | Loss: 0.0735\n",
            "Epoch 00133 | Loss: 0.0667\n",
            "Epoch 00134 | Loss: 0.0629\n",
            "Epoch 00135 | Loss: 0.0606\n",
            "Epoch 00136 | Loss: 0.0607\n",
            "F1-Score: 0.9465\n",
            "Epoch 00137 | Loss: 0.0619\n",
            "Epoch 00138 | Loss: 0.0620\n",
            "Epoch 00139 | Loss: 0.0638\n",
            "Epoch 00140 | Loss: 0.0647\n",
            "Epoch 00141 | Loss: 0.0680\n",
            "F1-Score: 0.9410\n",
            "Epoch 00142 | Loss: 0.0661\n",
            "Epoch 00143 | Loss: 0.0633\n",
            "Epoch 00144 | Loss: 0.0600\n",
            "Epoch 00145 | Loss: 0.0567\n",
            "Epoch 00146 | Loss: 0.0549\n",
            "F1-Score: 0.9494\n",
            "Epoch 00147 | Loss: 0.0537\n",
            "Epoch 00148 | Loss: 0.0547\n",
            "Epoch 00149 | Loss: 0.0548\n",
            "Epoch 00150 | Loss: 0.0553\n",
            "Epoch 00151 | Loss: 0.0556\n",
            "F1-Score: 0.9490\n",
            "Epoch 00152 | Loss: 0.0575\n",
            "Epoch 00153 | Loss: 0.0569\n",
            "Epoch 00154 | Loss: 0.0558\n",
            "Epoch 00155 | Loss: 0.0524\n",
            "Epoch 00156 | Loss: 0.0499\n",
            "F1-Score: 0.9525\n",
            "Epoch 00157 | Loss: 0.0489\n",
            "Epoch 00158 | Loss: 0.0480\n",
            "Epoch 00159 | Loss: 0.0465\n",
            "Epoch 00160 | Loss: 0.0488\n",
            "Epoch 00161 | Loss: 0.0529\n",
            "F1-Score: 0.9505\n",
            "Epoch 00162 | Loss: 0.0597\n",
            "Epoch 00163 | Loss: 0.0668\n",
            "Epoch 00164 | Loss: 0.0705\n",
            "Epoch 00165 | Loss: 0.0726\n",
            "Epoch 00166 | Loss: 0.0715\n",
            "F1-Score: 0.9420\n",
            "Epoch 00167 | Loss: 0.0677\n",
            "Epoch 00168 | Loss: 0.0643\n",
            "Epoch 00169 | Loss: 0.0606\n",
            "Epoch 00170 | Loss: 0.0754\n",
            "Epoch 00171 | Loss: 0.0743\n",
            "F1-Score: 0.9386\n",
            "Epoch 00172 | Loss: 0.0730\n",
            "Epoch 00173 | Loss: 0.0732\n",
            "Epoch 00174 | Loss: 0.0654\n",
            "Epoch 00175 | Loss: 0.0662\n",
            "Epoch 00176 | Loss: 0.0596\n",
            "F1-Score: 0.9485\n",
            "Epoch 00177 | Loss: 0.0541\n",
            "Epoch 00178 | Loss: 0.0526\n",
            "Epoch 00179 | Loss: 0.0492\n",
            "Epoch 00180 | Loss: 0.0466\n",
            "Epoch 00181 | Loss: 0.0477\n",
            "F1-Score: 0.9542\n",
            "Epoch 00182 | Loss: 0.0492\n",
            "Epoch 00183 | Loss: 0.0520\n",
            "Epoch 00184 | Loss: 0.0556\n",
            "Epoch 00185 | Loss: 0.0580\n",
            "Epoch 00186 | Loss: 0.0587\n",
            "F1-Score: 0.9490\n",
            "Epoch 00187 | Loss: 0.0548\n",
            "Epoch 00188 | Loss: 0.0494\n",
            "Epoch 00189 | Loss: 0.0456\n",
            "Epoch 00190 | Loss: 0.0440\n",
            "Epoch 00191 | Loss: 0.0438\n",
            "F1-Score: 0.9564\n",
            "Epoch 00192 | Loss: 0.0426\n",
            "Epoch 00193 | Loss: 0.0428\n",
            "Epoch 00194 | Loss: 0.0437\n",
            "Epoch 00195 | Loss: 0.0501\n",
            "Epoch 00196 | Loss: 0.0526\n",
            "F1-Score: 0.9527\n",
            "Epoch 00197 | Loss: 0.0559\n",
            "Epoch 00198 | Loss: 0.0557\n",
            "Epoch 00199 | Loss: 0.0533\n",
            "Epoch 00200 | Loss: 0.0490\n"
          ]
        }
      ],
      "source": [
        "## Student model\n",
        "student_model = StudentModel(input_size = n_features,\n",
        "                                hidden_size = 256,\n",
        "                                output_size = n_classes).to(device)\n",
        "\n",
        "### DEFINE LOSS FUNCTION AND OPTIMIZER\n",
        "optimizer = torch.optim.Adam(student_model.parameters(), lr=0.005)\n",
        "\n",
        "### TRAIN\n",
        "epoch_list, student_model_scores = train(student_model, loss_fcn, device, optimizer, max_epochs, train_dataloader, val_dataloader)"
      ]
    },
    {
      "cell_type": "markdown",
      "metadata": {
        "id": "aWatNTPBpQGY"
      },
      "source": [
        "Let's evaluate the performance of your model"
      ]
    },
    {
      "cell_type": "code",
      "execution_count": null,
      "metadata": {
        "id": "WFWMqwDuSj7b",
        "colab": {
          "base_uri": "https://localhost:8080/",
          "height": 367
        },
        "outputId": "b87644ba-474c-47f4-ebc7-10428038f73e"
      },
      "outputs": [
        {
          "output_type": "stream",
          "name": "stdout",
          "text": [
            "Student Model : F1-Score on the test set: 0.9655\n"
          ]
        },
        {
          "output_type": "display_data",
          "data": {
            "text/plain": [
              "<Figure size 720x360 with 1 Axes>"
            ],
            "image/png": "[encoded data removed]"
          },
          "metadata": {
            "needs_background": "light"
          }
        }
      ],
      "source": [
        "score_test = evaluate(student_model, loss_fcn, device, test_dataloader)\n",
        "print(\"Student Model : F1-Score on the test set: {:.4f}\".format(score_test))\n",
        "\n",
        "def plot_f1_score(epoch_list, basic_model_scores, student_model_scores) :\n",
        "    plt.figure(figsize = [10,5])\n",
        "    plt.plot(epoch_list, basic_model_scores, 'b', label = \"Basic Model\")\n",
        "    plt.plot(epoch_list, student_model_scores, 'r', label = \"Student Model\")\n",
        "    plt.title(\"Evolution of f1 score w.r.t epochs\")\n",
        "    plt.ylim([0.0, 1.0])\n",
        "    plt.ylabel(\"F1-Score\")\n",
        "    plt.xlabel(\"Epochs\")\n",
        "    plt.legend()\n",
        "    plt.show()\n",
        "\n",
        "plot_f1_score(epoch_list, basic_model_scores, student_model_scores)"
      ]
    },
    {
      "cell_type": "markdown",
      "metadata": {
        "id": "i9aVEYkuR3fp"
      },
      "source": [
        "## **PART 2 : QUESTIONS** (12/20)"
      ]
    },
    {
      "cell_type": "markdown",
      "metadata": {
        "id": "vZ-r6AWtR-Co"
      },
      "source": [
        "**1. Make a small paragraph that : (4pts)**\n",
        "1. Explains your achitecture and justify your choices (why the Graph Layer you chose is more efficient than the GCNLayer from the Basic Model?).\n",
        "2. Analyses your results (what is the F1-Score ? are your results convincing ? what is your position w.r.t state-of-the-art ?)."
      ]
    },
    {
      "cell_type": "markdown",
      "metadata": {
        "id": "4aiCvW4q5jRY"
      },
      "source": [
        "We have chosen a special version of Graph Attention Network (GAT) as the architecture of our model inspired by the architecture discussed in [Petar Velickovic et al](https://arxiv.org/pdf/1710.10903.pdf). In the original paper, the authors used a three-layer Graph Attention Network (GAT) model. The first two layers consisted of 4 attention heads computing 256 features (for a total of 1024 features), followed by an ELU nonlinearity. The final layer was used for (multi-label) classification, computing 121 features each, that were averaged and followed by a logistic sigmoid activation. In 2021, [Brody et al](https://arxiv.org/pdf/2105.14491.pdf). showed that by making a slight change in the operation of the GAT, the performance can be further improved. By applying the weight matrix 𝐖 after the concatenation, and using the attention weight matrix 𝐖ₐₜₜ after the LeakyReLU function, the authors claimed that GATv2Conv layer consistently outperforms GATConv layer and thus should be preferred.\n",
        "\n",
        "\n",
        "We made the same changes as suggested by Brody et al. to the original architecture as described by Velickovic et al. to obtain a better F1 score.\n",
        "Furthermore, the improved GATv2 model has multiple heads, allowing multiple independent attention mechanisms to operate on the same node features in parallel, enhancing the model's expressive power. The GATv2Conv layer is a more advanced graph convolutional layer than GCNConv because it learns different weights for different neighbor nodes during convolution. In contrast, GCNConv has fixed weights for all the neighbor nodes, which is not optimal for different nodes in the graph. As a result, the GATv2 model is expected to outperform the BasicGraphModel, particularly when dealing with complex graphs with long-distance dependencies between nodes.\n",
        "\n",
        "In our architecture, we have created three GATv2 layers with 4 heads for the first two layers, and 1 head for the last layer. The number of heads in the first two layers allows the model to capture different patterns and structures in the graph simultaneously, while the last layer aggregates the information and produces the final output. Additionally, we used the ELU activation function in the BasicGraphModel to enhance the non-linearity of the model. \\\n",
        "\n",
        "\n",
        "From the graph obtained, we can see that the F1 score, which is a measure of the model's performance, is increasing with each epoch. The GATv2 model gives an F1 score of 0.96, which is an improvement over the F1 score of 0.65 obtained from the basic GCN model. The overall trend seems to be positive with epochs, with the F1score increasing from around 0.44 in the first epoch to over 0.96 in the last epoch. This suggests that the model is improving over time and getting better at predicting the target variable, without getting overfitted. The F1 score obtained from the model is high, suggesting that the model is comparable to that of the state-of-the-arts models.\n"
      ]
    },
    {
      "cell_type": "markdown",
      "metadata": {
        "id": "5HIVqG4u5jfc"
      },
      "source": [
        "**2. Provide a diagramm of your architecture, which includes a good and clear legend as well as shapes information. The diagramm must be submitted as an external file, along with this notebook (PDF, JEPG or PNG format accepted). (2pts)**"
      ]
    },
    {
      "cell_type": "markdown",
      "source": [
        "The diagram of the architecture is attached along with this notebook."
      ],
      "metadata": {
        "id": "z6GJDiHeXwr7"
      }
    },
    {
      "cell_type": "markdown",
      "metadata": {
        "id": "crMHLjkJ5pxl"
      },
      "source": [
        "**3. Make a small paragraph that explains: (6pts)**\n",
        "1. What _oversmoothing_ is in the context of Graph Neural Network. Why is it an issue ?\n",
        "2. Are there solutions to overcome it ?\n",
        "3. Do you think the model you constructed is robust with respect to oversmoothing ? Why ?"
      ]
    },
    {
      "cell_type": "markdown",
      "metadata": {
        "id": "QLPosSov_uPK"
      },
      "source": [
        "Oversmoothing in the context of Graph Neural Networks (GNNs) refers to the phenomenon where the representations of nodes become indistinguishable after multiple layers of graph convolutions, resulting in loss of information and degraded performance. This occurs because, with each convolutional layer, the neighborhood information of a node is aggregated, which can lead to a reduction in discriminative power of node features. Also, as the layers go deeper, the hidden variables converge to a point (with linear activation), a subspace (with ReLU activation), or a cube (with ReLU activation and bias). This issue is especially prominent in GNNs with a large number of layers, and can significantly impact the accuracy of the model. Oversmoothing can be an issue because the GNN may not be able to effectively distinguish between nodes or graphs with different properties, and the performance of the GNN would not improve even if the number of layers are increased.\n",
        "\n",
        "\n",
        "To address oversmoothing, several techniques have been proposed, including skip connections, residual connections, and multi-scale aggregation. These methods aim to improve the flow of information across layers and enable the model to better preserve the original node features. Alternatively, the graph structure can be modified to reduce oversmoothing. A proposed method is the DROP-EDGE method where a certain rate of edges of the input graph is dropped at each training epoch.\n",
        "\n",
        "\n",
        "The GATv2 model we constructed uses multi-head attention mechanism, activation functions, and adaptive normalization to reduce oversmoothing. The GATv2Conv layers in the model use multiple attention heads to compute different attention coefficients for each neighbor node, which allows the model to capture multiple aspects of the node's local neighborhood and prevent the node embeddings from becoming overly similar across multiple layers. Also, GATv2 uses a novel activation function called \"Adaptive Leaky Linear Unit (Adaptive L2U),\" which aids in maintaining the diversity of node representations even as information is propagated through the graph. Furthermore, GATv2 employs a new type of adaptive normalization known as \"Adaptive Group Normalization (AdaGN),\" which aids in alleviating the over-smoothing problem by normalizing the representations of groups of nodes rather than the entire node set. This method prevents all node embeddings from becoming too similar. The fact that the GATv2 model did not overfit can be verified from the plot of the F1 score in which the F1 score consistently improved with respect to the number of epochs."
      ]
    }
  ],
  "metadata": {
    "accelerator": "GPU",
    "colab": {
      "provenance": [],
      "include_colab_link": true
    },
    "gpuClass": "standard",
    "kernelspec": {
      "display_name": "Python 3",
      "language": "python",
      "name": "python3"
    },
    "language_info": {
      "codemirror_mode": {
        "name": "ipython",
        "version": 3
      },
      "file_extension": ".py",
      "mimetype": "text/x-python",
      "name": "python",
      "nbconvert_exporter": "python",
      "pygments_lexer": "ipython3",
      "version": "3.7.6"
    }
  },
  "nbformat": 4,
  "nbformat_minor": 0
}